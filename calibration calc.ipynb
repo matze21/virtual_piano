{
 "cells": [
  {
   "cell_type": "code",
   "execution_count": 26,
   "id": "86230e0b",
   "metadata": {},
   "outputs": [],
   "source": [
    "import pandas as pd\n",
    "import numpy as np\n",
    "import sympy as sp\n",
    "from scipy.optimize import fsolve"
   ]
  },
  {
   "cell_type": "code",
   "execution_count": 2,
   "id": "61304c07",
   "metadata": {},
   "outputs": [],
   "source": [
    "data = pd.read_csv('/Users/matthiaskargl/Codes/virtual_piano/calibration.csv')"
   ]
  },
  {
   "cell_type": "code",
   "execution_count": 11,
   "id": "e16a29a0",
   "metadata": {
    "scrolled": true
   },
   "outputs": [],
   "source": [
    "vals = data.mean(axis=0)"
   ]
  },
  {
   "cell_type": "code",
   "execution_count": 21,
   "id": "bbdae4b0",
   "metadata": {},
   "outputs": [],
   "source": [
    "y_vals = {}\n",
    "for i,index in enumerate(vals.index):\n",
    "    if 'y' in index:\n",
    "        y_vals[index] = vals[i]"
   ]
  },
  {
   "cell_type": "code",
   "execution_count": 61,
   "id": "433da75b",
   "metadata": {},
   "outputs": [
    {
     "data": {
      "text/plain": [
       "Index(['Unnamed: 0', '4.0xr', '4.0yr', '8.0xr', '8.0yr', '12.0xr', '12.0yr',\n",
       "       '16.0xr', '16.0yr', '20.0xr', '20.0yr', '4.0xl', '4.0yl', '8.0xl',\n",
       "       '8.0yl', '12.0xl', '12.0yl', '16.0xl', '16.0yl', '20.0xl', '20.0yl',\n",
       "       '3.0xr', '3.0yr', '7.0xr', '7.0yr', '11.0xr', '11.0yr', '15.0xr',\n",
       "       '15.0yr', '19.0xr', '19.0yr'],\n",
       "      dtype='object')"
      ]
     },
     "execution_count": 61,
     "metadata": {},
     "output_type": "execute_result"
    }
   ],
   "source": [
    "data.columns"
   ]
  },
  {
   "cell_type": "code",
   "execution_count": 50,
   "id": "4719ee7e",
   "metadata": {},
   "outputs": [],
   "source": [
    "def functions(x):\n",
    "    yc,fl,pitch,zCam1,zCam2,zCam3,zCam4,zCam5 = x \n",
    "    eq1 = (np.sin(pitch) - (y1 - yc) / fl * np.cos(pitch)) * zCam1 - (np.sin(pitch) - (y2 - yc) / fl * np.cos(pitch)) * zCam2\n",
    "    eq2 = (np.sin(pitch) - (y1 - yc) / fl * np.cos(pitch)) * zCam1 - (np.sin(pitch) - (y3 - yc) / fl * np.cos(pitch)) * zCam3\n",
    "    eq3 = (np.sin(pitch) - (y1 - yc) / fl * np.cos(pitch)) * zCam1 - (np.sin(pitch) - (y4 - yc) / fl * np.cos(pitch)) * zCam4\n",
    "    eq4 = (np.sin(pitch) - (y1 - yc) / fl * np.cos(pitch)) * zCam1 - (np.sin(pitch) - (y5 - yc) / fl * np.cos(pitch)) * zCam5\n",
    "    eq5 = (np.sin(pitch) - (y2 - yc) / fl * np.cos(pitch)) * zCam2 - (np.sin(pitch) - (y3 - yc) / fl * np.cos(pitch)) * zCam3\n",
    "    eq6 = (np.sin(pitch) - (y2 - yc) / fl * np.cos(pitch)) * zCam2 - (np.sin(pitch) - (y4 - yc) / fl * np.cos(pitch)) * zCam4\n",
    "    eq7 = (np.sin(pitch) - (y2 - yc) / fl * np.cos(pitch)) * zCam2 - (np.sin(pitch) - (y5 - yc) / fl * np.cos(pitch)) * zCam5\n",
    "    eq8 = (np.sin(pitch) - (y3 - yc) / fl * np.cos(pitch)) * zCam3 - (np.sin(pitch) - (y4 - yc) / fl * np.cos(pitch)) * zCam4\n",
    "    #eq9 = (np.sin(pitch) - (y3 - yc) / fl * np.cos(pitch)) * zCam3 - (np.sin(pitch) - (y5 - yc) / fl * np.cos(pitch)) * zCam5\n",
    "    #eq10 = (np.sin(pitch) - (y4 - yc) / fl * np.cos(pitch)) * zCam4 - (np.sin(pitch) - (y5 - yc) / fl * np.cos(pitch)) * zCam5\n",
    "    return [eq1, eq2, eq3, eq4,eq5,eq6,eq7,eq8]#,eq9,eq10]"
   ]
  },
  {
   "cell_type": "code",
   "execution_count": 57,
   "id": "283924fc",
   "metadata": {},
   "outputs": [],
   "source": [
    "def calcZEgo(x):\n",
    "    yc,fl,pitch,zCam1,zCam2,zCam3,zCam4,zCam5 = x \n",
    "    eq1 = (np.sin(pitch) - (y1 - yc) / fl * np.cos(pitch)) * zCam1\n",
    "    eq2 = (np.sin(pitch) - (y2 - yc) / fl * np.cos(pitch)) * zCam2\n",
    "    eq3 = (np.sin(pitch) - (y3 - yc) / fl * np.cos(pitch)) * zCam3\n",
    "    eq4 = (np.sin(pitch) - (y4 - yc) / fl * np.cos(pitch)) * zCam4\n",
    "    eq5 = (np.sin(pitch) - (y5 - yc) / fl * np.cos(pitch)) * zCam5\n",
    "    return [eq1,eq2,eq3,eq4,eq4]"
   ]
  },
  {
   "cell_type": "code",
   "execution_count": 51,
   "id": "1a7bd591",
   "metadata": {},
   "outputs": [],
   "source": [
    "y5 = y_vals['4.0yr']\n",
    "y1 = y_vals['8.0yr']\n",
    "y2 = y_vals['12.0yr']\n",
    "y3 = y_vals['16.0yr']\n",
    "y4 = y_vals['20.0yr']\n",
    "zCam4 = 1"
   ]
  },
  {
   "cell_type": "code",
   "execution_count": 53,
   "id": "588d247f",
   "metadata": {},
   "outputs": [],
   "source": [
    "solutions= fsolve(functions, [300, 600,np.deg2rad(-10),30,30,30,30,33])"
   ]
  },
  {
   "cell_type": "code",
   "execution_count": 54,
   "id": "97e98279",
   "metadata": {},
   "outputs": [
    {
     "data": {
      "text/plain": [
       "array([ 3.45001685e+02,  7.05496496e+02, -6.08922575e-01,  3.03454700e+01,\n",
       "        2.96871748e+01,  2.99491660e+01,  3.12696257e+01,  3.36392221e+01])"
      ]
     },
     "execution_count": 54,
     "metadata": {},
     "output_type": "execute_result"
    }
   ],
   "source": [
    "solutions"
   ]
  },
  {
   "cell_type": "code",
   "execution_count": 55,
   "id": "7d03d89e",
   "metadata": {},
   "outputs": [
    {
     "data": {
      "text/plain": [
       "[4.268677855634451e-09,\n",
       " 1.0774741099339735e-09,\n",
       " -5.2739359546194464e-09,\n",
       " 2.8826217857158554e-08,\n",
       " -3.191203745700477e-09,\n",
       " -9.542613810253897e-09,\n",
       " 2.4557540001524103e-08,\n",
       " -6.35141006455342e-09]"
      ]
     },
     "execution_count": 55,
     "metadata": {},
     "output_type": "execute_result"
    }
   ],
   "source": [
    "functions(solutions)"
   ]
  },
  {
   "cell_type": "code",
   "execution_count": 58,
   "id": "13e04d5d",
   "metadata": {},
   "outputs": [
    {
     "data": {
      "text/plain": [
       "[-27.04893399900627,\n",
       " -27.048934003274947,\n",
       " -27.048934000083744,\n",
       " -27.048933993732334,\n",
       " -27.048933993732334]"
      ]
     },
     "execution_count": 58,
     "metadata": {},
     "output_type": "execute_result"
    }
   ],
   "source": [
    "calcZEgo(solutions)"
   ]
  },
  {
   "cell_type": "code",
   "execution_count": null,
   "id": "709a5817",
   "metadata": {},
   "outputs": [],
   "source": []
  }
 ],
 "metadata": {
  "kernelspec": {
   "display_name": "Python 3 (ipykernel)",
   "language": "python",
   "name": "python3"
  },
  "language_info": {
   "codemirror_mode": {
    "name": "ipython",
    "version": 3
   },
   "file_extension": ".py",
   "mimetype": "text/x-python",
   "name": "python",
   "nbconvert_exporter": "python",
   "pygments_lexer": "ipython3",
   "version": "3.9.12"
  }
 },
 "nbformat": 4,
 "nbformat_minor": 5
}
